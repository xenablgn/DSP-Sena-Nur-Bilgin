{
 "cells": [
  {
   "cell_type": "code",
   "execution_count": 4,
   "metadata": {},
   "outputs": [
    {
     "name": "stdout",
     "output_type": "stream",
     "text": [
      "The autoreload extension is already loaded. To reload it, use:\n",
      "  %reload_ext autoreload\n",
      "['/Users/xenanurbilgin/DSP-Sena-Nur-Bilgin/Notebook', '/Users/xenanurbilgin/miniconda3/envs/DSPSena/lib/python39.zip', '/Users/xenanurbilgin/miniconda3/envs/DSPSena/lib/python3.9', '/Users/xenanurbilgin/miniconda3/envs/DSPSena/lib/python3.9/lib-dynload', '', '/Users/xenanurbilgin/miniconda3/envs/DSPSena/lib/python3.9/site-packages', '/Users/xenanurbilgin/DSP-Sena-Nur-Bilgin', '/Users/xenanurbilgin/DSP-Sena-Nur-Bilgin']\n"
     ]
    }
   ],
   "source": [
    "%load_ext autoreload\n",
    "%autoreload 2\n",
    "\n",
    "import os\n",
    "import sys\n",
    "\n",
    "\n",
    "home_directory = os.path.expanduser('~')\n",
    "project_path = os.path.join(home_directory, 'DSP-Sena-Nur-Bilgin')\n",
    "sys.path.append(project_path)\n",
    "print(sys.path)\n",
    "\n",
    "\n",
    "\n"
   ]
  },
  {
   "cell_type": "code",
   "execution_count": 5,
   "metadata": {},
   "outputs": [
    {
     "name": "stdout",
     "output_type": "stream",
     "text": [
      "{'RMSLE': '0.163', 'MSE': '654485964.570933', 'RMSE': '25582.923299946255', 'MAE': '18985.766997457755', 'R2-score': '0.87'}\n"
     ]
    },
    {
     "name": "stderr",
     "output_type": "stream",
     "text": [
      "/Users/xenanurbilgin/miniconda3/envs/DSPSena/lib/python3.9/site-packages/sklearn/metrics/_regression.py:483: FutureWarning: 'squared' is deprecated in version 1.4 and will be removed in 1.6. To calculate the root mean squared error, use the function'root_mean_squared_error'.\n",
      "  warnings.warn(\n"
     ]
    }
   ],
   "source": [
    "import pandas as pd\n",
    "from house_prices.train import build_model\n",
    "\n",
    "training_data_df = pd.read_csv('../data/house-prices-advanced-regression-techniques/train.csv')\n",
    "\n",
    "model_performance_dict = build_model(training_data_df)\n",
    "\n",
    "print(model_performance_dict)\n"
   ]
  },
  {
   "cell_type": "code",
   "execution_count": 6,
   "metadata": {},
   "outputs": [
    {
     "name": "stdout",
     "output_type": "stream",
     "text": [
      "Predictions: [112379.45418624 138776.96470353 154612.28619675 ... 138552.9593536\n",
      " 102040.11860567 223821.62057492]\n"
     ]
    }
   ],
   "source": [
    "import pandas as pd\n",
    "from house_prices.inference import make_predictions\n",
    "\n",
    "user_data_df = pd.read_csv('../data/house-prices-advanced-regression-techniques/test.csv')\n",
    "\n",
    "predictions = make_predictions(user_data_df)\n",
    "\n",
    "print(\"Predictions:\", predictions)\n"
   ]
  },
  {
   "cell_type": "code",
   "execution_count": null,
   "metadata": {},
   "outputs": [],
   "source": []
  }
 ],
 "metadata": {
  "kernelspec": {
   "display_name": "DSPSena",
   "language": "python",
   "name": "python3"
  },
  "language_info": {
   "codemirror_mode": {
    "name": "ipython",
    "version": 3
   },
   "file_extension": ".py",
   "mimetype": "text/x-python",
   "name": "python",
   "nbconvert_exporter": "python",
   "pygments_lexer": "ipython3",
   "version": "3.9.18"
  }
 },
 "nbformat": 4,
 "nbformat_minor": 2
}
